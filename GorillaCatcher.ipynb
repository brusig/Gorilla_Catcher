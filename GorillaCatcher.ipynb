{
 "cells": [
  {
   "cell_type": "code",
   "execution_count": 1,
   "metadata": {},
   "outputs": [
    {
     "name": "stdout",
     "output_type": "stream",
     "text": [
      "pygame 2.1.3.dev8 (SDL 2.26.2, Python 3.10.6)\n",
      "Hello from the pygame community. https://www.pygame.org/contribute.html\n"
     ]
    }
   ],
   "source": [
    "import pygame\n",
    "import pygame_gui\n",
    "from pygame_gui.windows.ui_file_dialog import UIFileDialog\n",
    "from pygame_gui.elements.ui_button import UIButton\n",
    "from pygame.rect import Rect\n",
    "import tensorflow as tf\n",
    "import numpy as np\n",
    "import sklearn as sk\n",
    "import scipy\n",
    "import pandas as pd\n",
    "import matplotlib.pyplot as plt\n",
    "import PIL\n",
    "import pathlib\n",
    "import time\n",
    "from tensorflow import keras\n",
    "from tensorflow.keras import layers\n",
    "from tensorflow.keras.models import Sequential\n",
    "from tensorflow.keras.optimizers.legacy import Adam\n",
    "from tensorflow.keras.models import load_model\n",
    "from tensorflow.keras.preprocessing.image import ImageDataGenerator\n",
    "import sys\n",
    "import os\n",
    "tf.get_logger().setLevel('ERROR') #verbose=0\n",
    "\n"
   ]
  },
  {
   "cell_type": "code",
   "execution_count": 2,
   "metadata": {},
   "outputs": [],
   "source": [
    "pygame.mixer.init(44100, -16, 2, 512) \n",
    "pygame.mixer.set_num_channels(32)\n",
    "pygame.init()\n",
    "\n",
    "pygame.mixer.music.load(\"assets/music.ogg\") #load music\n",
    "siren = pygame.mixer.Sound(\"assets/siren.wav\") #load jump sound and assign it to \"jump\"\n",
    "pygame.mixer.music.set_volume(0.5)\n",
    "siren.set_volume(0.2)\n",
    "black = (0,0,0) #Colors\n",
    "white = (255,255,255)\n",
    "red = (255,0,0)\n",
    "sysfont = pygame.font.get_default_font()\n",
    "font = pygame.font.SysFont(sysfont,100) \n",
    "model = load_model('model/gorillamodel.h5')\n",
    "\n",
    "\n",
    "batch_size = 32\n",
    "img_height = 180\n",
    "img_width = 180\n",
    "class_names = ['Gorilla','Human']\n",
    "\n",
    "windres = (1200,1200*0.75)\n"
   ]
  },
  {
   "cell_type": "code",
   "execution_count": 3,
   "metadata": {},
   "outputs": [],
   "source": [
    "def gorcheck(x):\n",
    "    img = tf.keras.utils.load_img(x, target_size=(img_height, img_width))\n",
    "    img_array = tf.keras.utils.img_to_array(img)\n",
    "    img_array = tf.expand_dims(img_array, 0)\n",
    "    predictions = model.predict(img_array)\n",
    "    score = tf.nn.softmax(predictions)\n",
    "    shimg = pygame.image.load(x).convert()\n",
    "    shimg = pygame.transform.scale(shimg,(128,128))\n",
    "    return score,shimg"
   ]
  },
  {
   "cell_type": "code",
   "execution_count": 4,
   "metadata": {},
   "outputs": [],
   "source": [
    "def gamestart():\n",
    "    flch=0\n",
    "    window_surface = pygame.display.set_mode(windres)\n",
    "    background = pygame.image.load('assets/bg.jpg').convert()\n",
    "    background = pygame.transform.scale(background,windres)\n",
    "    manager = pygame_gui.UIManager(windres)\n",
    "    clock = pygame.time.Clock()\n",
    "    pygame.display.set_caption(\"Gorilla Catcher\") #sets the name of the tab\n",
    "    \n",
    "    file_selection_button = UIButton(relative_rect=Rect((windres[0]/2)-65, windres[1]/4, 130, 50),\n",
    "                                    manager=manager, text='Select Image')\n",
    "\n",
    "    img_height = 180\n",
    "    img_width = 180\n",
    "    bild = ''\n",
    "    pygame.mixer.music.play(loops=-1)\n",
    "\n",
    "    while 1:\n",
    "        time_delta = clock.tick(60) / 1000.0\n",
    "\n",
    "        for event in pygame.event.get():\n",
    "            if event.type == pygame.QUIT:\n",
    "                quit()\n",
    "            if event.type == pygame.USEREVENT:\n",
    "                if event.user_type == pygame_gui.UI_BUTTON_PRESSED:\n",
    "                    if event.ui_element == file_selection_button:\n",
    "                        file_selection = UIFileDialog(rect=Rect(0, 0, 400, 800), manager=manager, allow_picking_directories=True)\n",
    "                                                               #0 #0 #300 #300\n",
    "                    if event.ui_element == file_selection.ok_button:\n",
    "                        bild = file_selection.current_file_path\n",
    "                        classc,imgrend = gorcheck(bild)\n",
    "                        flch = 0\n",
    "            manager.process_events(event)\n",
    "        manager.update(time_delta)\n",
    "        window_surface.blit(background, (0, 0))\n",
    "\n",
    "        if len(str(bild)) > 0:\n",
    "            if class_names[np.argmax(classc)] == 'Gorilla':\n",
    "                while flch == 0:\n",
    "                    pygame.mixer.Sound.play(siren)\n",
    "                    flch = 1\n",
    "                classrender = font.render(class_names[np.argmax(classc)], True,black)\n",
    "                text_rect = classrender.get_rect(center=(windres[0]/2, windres[1]/2))\n",
    "                pygame.draw.rect(window_surface, red, pygame.Rect(text_rect))            \n",
    "            if class_names[np.argmax(classc)] == 'Human':\n",
    "                classrender = font.render(class_names[np.argmax(classc)], True,white)\n",
    "                text_rect = classrender.get_rect(center=(windres[0]/2, windres[1]/2))\n",
    "                pygame.draw.rect(window_surface, black, pygame.Rect(text_rect))            \n",
    "\n",
    "            \n",
    "            imgrend2 = pygame.image.load(bild).convert() # Load the image\n",
    "            imgrend2 = pygame.transform.scale(imgrend2,(360,360)) # rescale it \n",
    "            imgrend3 = pygame.transform.scale(imgrend2,(380,380)) # create a different scale, which we use for the border\n",
    "            imgret1 = imgrend2.get_rect(center=(windres[0]/2, windres[1]/1.3)) # where to blit image\n",
    "            imgret2 = imgrend3.get_rect(center=(windres[0]/2, windres[1]/1.3)) # where to blit rectangle\n",
    "            if class_names[np.argmax(classc)] == 'Gorilla':\n",
    "                pygame.draw.rect(window_surface, red, pygame.Rect(imgret2))\n",
    "            if class_names[np.argmax(classc)] == 'Human':\n",
    "                pygame.draw.rect(window_surface, black, pygame.Rect(imgret2))\n",
    "            window_surface.blit(classrender, text_rect) \n",
    "            window_surface.blit(imgrend2,imgret1) \n",
    "            \n",
    "            \n",
    "        manager.draw_ui(window_surface)\n",
    "        pygame.display.update()"
   ]
  },
  {
   "cell_type": "code",
   "execution_count": 5,
   "metadata": {},
   "outputs": [
    {
     "name": "stderr",
     "output_type": "stream",
     "text": [
      "/var/folders/8_/bnynf45x5l10217ytky1647r0000gn/T/ipykernel_31364/2570401678.py:25: DeprecationWarning: Pygame GUI event types can now be used directly as event.type rather than event.user_type. This old style user_type event will go away in version 0.8.0\n",
      "  if event.user_type == pygame_gui.UI_BUTTON_PRESSED:\n"
     ]
    },
    {
     "name": "stdout",
     "output_type": "stream",
     "text": [
      "1/1 [==============================] - 0s 101ms/step\n"
     ]
    },
    {
     "name": "stderr",
     "output_type": "stream",
     "text": [
      "2023-01-11 17:18:59.219225: W tensorflow/tsl/platform/profile_utils/cpu_utils.cc:128] Failed to get CPU frequency: 0 Hz\n"
     ]
    },
    {
     "name": "stdout",
     "output_type": "stream",
     "text": [
      "1/1 [==============================] - 0s 13ms/step\n",
      "1/1 [==============================] - 0s 13ms/step\n",
      "1/1 [==============================] - 0s 13ms/step\n",
      "1/1 [==============================] - 0s 17ms/step\n",
      "1/1 [==============================] - 0s 14ms/step\n"
     ]
    }
   ],
   "source": [
    "gamestart()"
   ]
  },
  {
   "cell_type": "code",
   "execution_count": null,
   "metadata": {},
   "outputs": [],
   "source": []
  }
 ],
 "metadata": {
  "kernelspec": {
   "display_name": "base",
   "language": "python",
   "name": "python3"
  },
  "language_info": {
   "codemirror_mode": {
    "name": "ipython",
    "version": 3
   },
   "file_extension": ".py",
   "mimetype": "text/x-python",
   "name": "python",
   "nbconvert_exporter": "python",
   "pygments_lexer": "ipython3",
   "version": "3.10.6"
  },
  "orig_nbformat": 4,
  "vscode": {
   "interpreter": {
    "hash": "dec8180808c025d6005a6229d9e992fa035cc7a9edb9858a5e7ee5c4073db9c3"
   }
  }
 },
 "nbformat": 4,
 "nbformat_minor": 2
}
